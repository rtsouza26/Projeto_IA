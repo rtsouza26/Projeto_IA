{
  "nbformat": 4,
  "nbformat_minor": 0,
  "metadata": {
    "kernelspec": {
      "display_name": "Python 3",
      "language": "python",
      "name": "python3"
    },
    "language_info": {
      "codemirror_mode": {
        "name": "ipython",
        "version": 3
      },
      "file_extension": ".py",
      "mimetype": "text/x-python",
      "name": "python",
      "nbconvert_exporter": "python",
      "pygments_lexer": "ipython3",
      "version": "3.7.3"
    },
    "colab": {
      "name": "Projeto_IA .ipynb",
      "provenance": []
    }
  },
  "cells": [
    {
      "cell_type": "markdown",
      "metadata": {
        "id": "WQUYiLuy_KfJ",
        "colab_type": "text"
      },
      "source": [
        "Projeto de predição de Hepatite c\n",
        "\n",
        "Equipe: Daniel Lemos\n",
        "        Rafael Targino\n",
        "        \n",
        "Data_Set: https://archive.ics.uci.edu/ml/machine-learning-databases/00503/HCV-Egy-Data.zip\n",
        "\n",
        "\n",
        "Passos:\n",
        "Ler os dados e normalizá-los cross-validation 10 folds\n",
        "Utilizar os seguintes algoritimos:\n",
        "1- KNN variando o K(1,3,5,10)\n",
        "2- Naive-Bayes\n",
        "3- Arvore de Decisão (Random Forrest) variando o numero de florestas\n",
        "4- RLScore(variando o numero de kernels)"
      ]
    },
    {
      "cell_type": "code",
      "metadata": {
        "id": "OKKUBivC_KfP",
        "colab_type": "code",
        "outputId": "c081d0ad-6e61-42b5-feac-053144919450",
        "colab": {
          "base_uri": "https://localhost:8080/",
          "height": 205
        }
      },
      "source": [
        "!pip install rlscore\n",
        "import numpy as np\n",
        "from sklearn.model_selection import KFold\n",
        "from sklearn import preprocessing\n",
        "from sklearn import preprocessing\n",
        "import pandas as pd\n",
        "import matplotlib.pyplot as pl\n",
        "%matplotlib inline"
      ],
      "execution_count": 0,
      "outputs": [
        {
          "output_type": "stream",
          "text": [
            "Collecting rlscore\n",
            "\u001b[?25l  Downloading https://files.pythonhosted.org/packages/f8/25/bdf769f00b65602aa9fa7a1c674c6a508c427249e1ee8f2e1e1d7adcadad/rlscore-0.8.1.tar.gz (778kB)\n",
            "\r\u001b[K     |▍                               | 10kB 19.0MB/s eta 0:00:01\r\u001b[K     |▉                               | 20kB 6.3MB/s eta 0:00:01\r\u001b[K     |█▎                              | 30kB 8.6MB/s eta 0:00:01\r\u001b[K     |█▊                              | 40kB 5.7MB/s eta 0:00:01\r\u001b[K     |██                              | 51kB 6.9MB/s eta 0:00:01\r\u001b[K     |██▌                             | 61kB 8.1MB/s eta 0:00:01\r\u001b[K     |███                             | 71kB 9.1MB/s eta 0:00:01\r\u001b[K     |███▍                            | 81kB 10.2MB/s eta 0:00:01\r\u001b[K     |███▉                            | 92kB 11.0MB/s eta 0:00:01\r\u001b[K     |████▏                           | 102kB 8.6MB/s eta 0:00:01\r\u001b[K     |████▋                           | 112kB 8.6MB/s eta 0:00:01\r\u001b[K     |█████                           | 122kB 8.6MB/s eta 0:00:01\r\u001b[K     |█████▌                          | 133kB 8.6MB/s eta 0:00:01\r\u001b[K     |██████                          | 143kB 8.6MB/s eta 0:00:01\r\u001b[K     |██████▎                         | 153kB 8.6MB/s eta 0:00:01\r\u001b[K     |██████▊                         | 163kB 8.6MB/s eta 0:00:01\r\u001b[K     |███████▏                        | 174kB 8.6MB/s eta 0:00:01\r\u001b[K     |███████▋                        | 184kB 8.6MB/s eta 0:00:01\r\u001b[K     |████████                        | 194kB 8.6MB/s eta 0:00:01\r\u001b[K     |████████▍                       | 204kB 8.6MB/s eta 0:00:01\r\u001b[K     |████████▉                       | 215kB 8.6MB/s eta 0:00:01\r\u001b[K     |█████████▎                      | 225kB 8.6MB/s eta 0:00:01\r\u001b[K     |█████████▊                      | 235kB 8.6MB/s eta 0:00:01\r\u001b[K     |██████████                      | 245kB 8.6MB/s eta 0:00:01\r\u001b[K     |██████████▌                     | 256kB 8.6MB/s eta 0:00:01\r\u001b[K     |███████████                     | 266kB 8.6MB/s eta 0:00:01\r\u001b[K     |███████████▍                    | 276kB 8.6MB/s eta 0:00:01\r\u001b[K     |███████████▉                    | 286kB 8.6MB/s eta 0:00:01\r\u001b[K     |████████████▏                   | 296kB 8.6MB/s eta 0:00:01\r\u001b[K     |████████████▋                   | 307kB 8.6MB/s eta 0:00:01\r\u001b[K     |█████████████                   | 317kB 8.6MB/s eta 0:00:01\r\u001b[K     |█████████████▌                  | 327kB 8.6MB/s eta 0:00:01\r\u001b[K     |█████████████▉                  | 337kB 8.6MB/s eta 0:00:01\r\u001b[K     |██████████████▎                 | 348kB 8.6MB/s eta 0:00:01\r\u001b[K     |██████████████▊                 | 358kB 8.6MB/s eta 0:00:01\r\u001b[K     |███████████████▏                | 368kB 8.6MB/s eta 0:00:01\r\u001b[K     |███████████████▋                | 378kB 8.6MB/s eta 0:00:01\r\u001b[K     |████████████████                | 389kB 8.6MB/s eta 0:00:01\r\u001b[K     |████████████████▍               | 399kB 8.6MB/s eta 0:00:01\r\u001b[K     |████████████████▉               | 409kB 8.6MB/s eta 0:00:01\r\u001b[K     |█████████████████▎              | 419kB 8.6MB/s eta 0:00:01\r\u001b[K     |█████████████████▊              | 430kB 8.6MB/s eta 0:00:01\r\u001b[K     |██████████████████              | 440kB 8.6MB/s eta 0:00:01\r\u001b[K     |██████████████████▌             | 450kB 8.6MB/s eta 0:00:01\r\u001b[K     |███████████████████             | 460kB 8.6MB/s eta 0:00:01\r\u001b[K     |███████████████████▍            | 471kB 8.6MB/s eta 0:00:01\r\u001b[K     |███████████████████▊            | 481kB 8.6MB/s eta 0:00:01\r\u001b[K     |████████████████████▏           | 491kB 8.6MB/s eta 0:00:01\r\u001b[K     |████████████████████▋           | 501kB 8.6MB/s eta 0:00:01\r\u001b[K     |█████████████████████           | 512kB 8.6MB/s eta 0:00:01\r\u001b[K     |█████████████████████▌          | 522kB 8.6MB/s eta 0:00:01\r\u001b[K     |█████████████████████▉          | 532kB 8.6MB/s eta 0:00:01\r\u001b[K     |██████████████████████▎         | 542kB 8.6MB/s eta 0:00:01\r\u001b[K     |██████████████████████▊         | 552kB 8.6MB/s eta 0:00:01\r\u001b[K     |███████████████████████▏        | 563kB 8.6MB/s eta 0:00:01\r\u001b[K     |███████████████████████▋        | 573kB 8.6MB/s eta 0:00:01\r\u001b[K     |████████████████████████        | 583kB 8.6MB/s eta 0:00:01\r\u001b[K     |████████████████████████▍       | 593kB 8.6MB/s eta 0:00:01\r\u001b[K     |████████████████████████▉       | 604kB 8.6MB/s eta 0:00:01\r\u001b[K     |█████████████████████████▎      | 614kB 8.6MB/s eta 0:00:01\r\u001b[K     |█████████████████████████▋      | 624kB 8.6MB/s eta 0:00:01\r\u001b[K     |██████████████████████████      | 634kB 8.6MB/s eta 0:00:01\r\u001b[K     |██████████████████████████▌     | 645kB 8.6MB/s eta 0:00:01\r\u001b[K     |███████████████████████████     | 655kB 8.6MB/s eta 0:00:01\r\u001b[K     |███████████████████████████▍    | 665kB 8.6MB/s eta 0:00:01\r\u001b[K     |███████████████████████████▊    | 675kB 8.6MB/s eta 0:00:01\r\u001b[K     |████████████████████████████▏   | 686kB 8.6MB/s eta 0:00:01\r\u001b[K     |████████████████████████████▋   | 696kB 8.6MB/s eta 0:00:01\r\u001b[K     |█████████████████████████████   | 706kB 8.6MB/s eta 0:00:01\r\u001b[K     |█████████████████████████████▌  | 716kB 8.6MB/s eta 0:00:01\r\u001b[K     |█████████████████████████████▉  | 727kB 8.6MB/s eta 0:00:01\r\u001b[K     |██████████████████████████████▎ | 737kB 8.6MB/s eta 0:00:01\r\u001b[K     |██████████████████████████████▊ | 747kB 8.6MB/s eta 0:00:01\r\u001b[K     |███████████████████████████████▏| 757kB 8.6MB/s eta 0:00:01\r\u001b[K     |███████████████████████████████▌| 768kB 8.6MB/s eta 0:00:01\r\u001b[K     |████████████████████████████████| 778kB 8.6MB/s eta 0:00:01\r\u001b[K     |████████████████████████████████| 788kB 8.6MB/s \n",
            "\u001b[?25hBuilding wheels for collected packages: rlscore\n",
            "  Building wheel for rlscore (setup.py) ... \u001b[?25l\u001b[?25hdone\n",
            "  Created wheel for rlscore: filename=rlscore-0.8.1-cp36-cp36m-linux_x86_64.whl size=1824856 sha256=2a2f5814bb41f328e43e2756b2a912e5d9717751c2fcd866f505b74c3b656b46\n",
            "  Stored in directory: /root/.cache/pip/wheels/96/d7/27/cd7b2182c3f5c012dbbf9a8507116b9c49140ffc733223c07b\n",
            "Successfully built rlscore\n",
            "Installing collected packages: rlscore\n",
            "Successfully installed rlscore-0.8.1\n"
          ],
          "name": "stdout"
        }
      ]
    },
    {
      "cell_type": "markdown",
      "metadata": {
        "id": "zFLWhXJIMtm0",
        "colab_type": "text"
      },
      "source": [
        "Base de dados de pacientes egípcios que foram submetidos a doses de tratamento para HCV cerca de 18 meses. A discretização deve ser aplicada com base em recomendações de especialistas; há um arquivo anexado mostra como.\n",
        "\n",
        "A base de dados reúne cerca de \n",
        "\n",
        "Os dados apresentão o tratamento de pacientes que apresentaram HCV e que sofreram o contágio de HCV e que passaram por tratamento, o problema é diagnosticar o grau de degradação do fígado através dos exames previamente levantados, sem a necessidade de exame de ultrasom ou histológico, ou seja prever o resultado do exame histológio acelerando assim que tipo de tratamento aplicar.\n",
        "as classes são não fibroso "
      ]
    },
    {
      "cell_type": "code",
      "metadata": {
        "id": "_8SQ07ME9uiL",
        "colab_type": "code",
        "colab": {}
      },
      "source": [
        "df = pd.read_csv(\"https://drive.google.com/uc?authuser=0&id=1S2HnHU5zoI7ERYhVd8naSaUMt0eJZW3L&export=download\")\n",
        "columns = df.columns\n",
        "\n"
      ],
      "execution_count": 0,
      "outputs": []
    },
    {
      "cell_type": "markdown",
      "metadata": {
        "id": "b-5pjiqxu0t0",
        "colab_type": "text"
      },
      "source": [
        "Normalização dos Dados sem a coluna de labels, essa coluna é separada e depois é realocada junto com os dados "
      ]
    },
    {
      "cell_type": "code",
      "metadata": {
        "id": "SPQzqa5Mobvv",
        "colab_type": "code",
        "outputId": "bc8399ff-0516-4e25-94a9-857fe90f7eec",
        "colab": {
          "base_uri": "https://localhost:8080/",
          "height": 588
        }
      },
      "source": [
        "from sklearn import preprocessing\n",
        "dfclass = pd.Series(df['Baselinehistological staging'])\n",
        "dfsclass = pd.DataFrame(df.iloc[:,0:28]) \n",
        "columns = dfsclass.columns\n",
        "\n",
        "print(columns)\n",
        "\n",
        "\n",
        "\n",
        "repcolumns = list()\n",
        "for index, column in enumerate(columns):\n",
        "  column = column.replace(\" \",\"\")\n",
        "  repcolumns.append(column)\n",
        "x = dfsclass.values\n",
        "x_scale = preprocessing.scale(dfsclass)\n",
        "x_normal = preprocessing.normalize(dfsclass, norm='l1')\n",
        "min_max_scaler = preprocessing.MinMaxScaler()\n",
        "max_abs_scaler = preprocessing.MaxAbsScaler()\n",
        "x_scaled = min_max_scaler.fit_transform(dfsclass)\n",
        "x_abs = max_abs_scaler.fit_transform(dfsclass)\n",
        "\n",
        "print(x_abs)\n",
        "dfnorm = pd.DataFrame(x_abs, columns = repcolumns)\n",
        "print(dfnorm)\n",
        "\n"
      ],
      "execution_count": 0,
      "outputs": [
        {
          "output_type": "stream",
          "text": [
            "Index(['Age ', 'Gender', 'BMI', 'Fever', 'Nausea/Vomting', 'Headache ',\n",
            "       'Diarrhea ', 'Fatigue & generalized bone ache ', 'Jaundice ',\n",
            "       'Epigastric pain ', 'WBC', 'RBC', 'HGB', 'Plat', 'AST 1', 'ALT 1',\n",
            "       'ALT4', 'ALT 12', 'ALT 24', 'ALT 36', 'ALT 48', 'ALT after 24 w',\n",
            "       'RNA Base', 'RNA 4', 'RNA 12', 'RNA EOT', 'RNA EF',\n",
            "       'Baseline histological Grading'],\n",
            "      dtype='object')\n",
            "[[9.18032787e-01 5.00000000e-01 1.00000000e+00 ... 6.18467438e-06\n",
            "  6.17030283e-06 8.12500000e-01]\n",
            " [7.54098361e-01 5.00000000e-01 8.28571429e-01 ... 4.16604614e-01\n",
            "  3.83607727e-02 2.50000000e-01]\n",
            " [9.34426230e-01 5.00000000e-01 9.42857143e-01 ... 9.10316037e-01\n",
            "  6.89628832e-01 2.50000000e-01]\n",
            " ...\n",
            " [6.88524590e-01 5.00000000e-01 7.42857143e-01 ... 4.25158018e-01\n",
            "  1.98013656e-01 3.75000000e-01]\n",
            " [8.52459016e-01 5.00000000e-01 8.28571429e-01 ... 3.04285979e-03\n",
            "  8.58997474e-01 9.37500000e-01]\n",
            " [9.01639344e-01 1.00000000e+00 7.42857143e-01 ... 6.18467438e-06\n",
            "  6.17030283e-06 8.12500000e-01]]\n",
            "           Age  Gender  ...     RNAEF  BaselinehistologicalGrading\n",
            "0     0.918033     0.5  ...  0.000006                       0.8125\n",
            "1     0.754098     0.5  ...  0.038361                       0.2500\n",
            "2     0.934426     0.5  ...  0.689629                       0.2500\n",
            "3     0.803279     1.0  ...  0.718595                       0.6250\n",
            "4     0.967213     0.5  ...  0.299705                       0.6875\n",
            "...        ...     ...  ...       ...                          ...\n",
            "1380  0.721311     0.5  ...  0.000006                       0.9375\n",
            "1381  0.901639     0.5  ...  0.291575                       0.6250\n",
            "1382  0.688525     0.5  ...  0.198014                       0.3750\n",
            "1383  0.852459     0.5  ...  0.858997                       0.9375\n",
            "1384  0.901639     1.0  ...  0.000006                       0.8125\n",
            "\n",
            "[1385 rows x 28 columns]\n"
          ],
          "name": "stdout"
        }
      ]
    },
    {
      "cell_type": "code",
      "metadata": {
        "id": "lQnbtzKStbp_",
        "colab_type": "code",
        "outputId": "34f70af3-080c-4247-a21e-89c632d93898",
        "colab": {
          "base_uri": "https://localhost:8080/",
          "height": 416
        }
      },
      "source": [
        "\n",
        "kf = KFold(n_splits = 2, shuffle = True, random_state = 2)\n",
        "X_index = dfnorm.index\n",
        "Y_index = dfclass.index\n",
        "\n",
        "Features = next(kf.split(X_index))\n",
        "Labels = next(kf.split(Y_index))\n",
        "\n",
        "X_train = dfnorm.iloc[Features[0]]\n",
        "X_test = dfnorm.iloc[Features[1]]\n",
        "Y_train = dfclass.iloc[Labels[0]]\n",
        "Y_test = dfclass.iloc[Labels[1]]\n",
        "\n",
        "print(len(X_train))\n",
        "print(X_train.columns)\n",
        "print(len(Y_train))\n",
        "\n",
        "\n",
        "\n",
        "pl.plot(X_train['RNA4'],'bo')\n"
      ],
      "execution_count": 0,
      "outputs": [
        {
          "output_type": "stream",
          "text": [
            "692\n",
            "Index(['Age', 'Gender', 'BMI', 'Fever', 'Nausea/Vomting', 'Headache',\n",
            "       'Diarrhea', 'Fatigue&generalizedboneache', 'Jaundice', 'Epigastricpain',\n",
            "       'WBC', 'RBC', 'HGB', 'Plat', 'AST1', 'ALT1', 'ALT4', 'ALT12', 'ALT24',\n",
            "       'ALT36', 'ALT48', 'ALTafter24w', 'RNABase', 'RNA4', 'RNA12', 'RNAEOT',\n",
            "       'RNAEF', 'BaselinehistologicalGrading'],\n",
            "      dtype='object')\n",
            "692\n"
          ],
          "name": "stdout"
        },
        {
          "output_type": "execute_result",
          "data": {
            "text/plain": [
              "[<matplotlib.lines.Line2D at 0x7f9b68662ac8>]"
            ]
          },
          "metadata": {
            "tags": []
          },
          "execution_count": 176
        },
        {
          "output_type": "display_data",
          "data": {
            "image/png": "[encoded data removed]",
            "text/plain": [
              "<Figure size 432x288 with 1 Axes>"
            ]
          },
          "metadata": {
            "tags": []
          }
        }
      ]
    },
    {
      "cell_type": "code",
      "metadata": {
        "id": "_6NZFbb3FU3x",
        "colab_type": "code",
        "outputId": "02059411-d06a-4295-938d-1da028decb90",
        "colab": {
          "base_uri": "https://localhost:8080/",
          "height": 138
        }
      },
      "source": [
        "from rlscore.learner import RLS\n",
        "from rlscore.measure import sqerror\n",
        "from rlscore.learner import LeaveOneOutRLS\n",
        "\n",
        "regparams = [2.**i for i in range(-15, 16)]\n",
        "learner = RLS(X_train, Y_train, kernel=\"PolynomialKernel\", regparam = 100, gamma=1.0, coef0=1.0, degree=2)\n",
        "#Leave-one-out cross-validation predictions, this is fast due to\n",
        "#computational short-cut\n",
        "P_loo = learner.leave_one_out()\n",
        "#Test set predictions\n",
        "P_test = learner.predict(X_test)\n",
        "print(\"leave-one-out error %f\" %sqerror(Y_train, P_loo))\n",
        "print(\"test error %f\" %sqerror(Y_test, P_test))\n",
        "#Sanity check, can we do better than predicting mean of training labels?\n",
        "\n"
      ],
      "execution_count": 0,
      "outputs": [
        {
          "output_type": "stream",
          "text": [
            "/usr/local/lib/python3.6/dist-packages/rlscore/utilities/array_tools.py:43: FutureWarning: Conversion of the second argument of issubdtype from `int` to `np.signedinteger` is deprecated. In future, it will be treated as `np.int64 == np.dtype(int).type`.\n",
            "  if not np.issubdtype(A.dtype, int) and not np.issubdtype(A.dtype, float):\n",
            "/usr/local/lib/python3.6/dist-packages/rlscore/utilities/array_tools.py:43: FutureWarning: Conversion of the second argument of issubdtype from `float` to `np.floating` is deprecated. In future, it will be treated as `np.float64 == np.dtype(float).type`.\n",
            "  if not np.issubdtype(A.dtype, int) and not np.issubdtype(A.dtype, float):\n"
          ],
          "name": "stderr"
        },
        {
          "output_type": "stream",
          "text": [
            "leave-one-out error 1.302327\n",
            "test error 1.368170\n"
          ],
          "name": "stdout"
        }
      ]
    },
    {
      "cell_type": "code",
      "metadata": {
        "id": "yLEMFavwXuRx",
        "colab_type": "code",
        "outputId": "396fb3f0-d663-4d41-8a64-0844b329e24c",
        "colab": {
          "base_uri": "https://localhost:8080/",
          "height": 154
        }
      },
      "source": [
        "  regparams = [2.**i for i in range(-15, 16)]\n",
        "  gammas = regparams\n",
        "  best_regparam = None\n",
        "  best_gamma = None\n",
        "  best_error = float(\"inf\")\n",
        "  best_learner = None\n",
        "  for gamma in gammas:\n",
        "      #New RLS is initialized for each kernel parameter\n",
        "      learner = LeaveOneOutRLS(X_train, Y_train, kernel=\"GaussianKernel\", gamma=gamma, regparams=regparams)\n",
        "      e = np.min(learner.cv_performances)\n",
        "      if e < best_error:\n",
        "          best_error = e\n",
        "          best_regparam = learner.regparam\n",
        "          best_gamma = gamma\n",
        "          best_learner = learner\n",
        "P_test = best_learner.predict(X_test)\n",
        "print(\"best parameters gamma %f regparam %f\" %(best_gamma, best_regparam))\n",
        "print(\"best leave-one-out error %f\" %best_error)\n",
        "print(\"test error %f\" %sqerror(Y_test, P_test))"
      ],
      "execution_count": 0,
      "outputs": [
        {
          "output_type": "stream",
          "text": [
            "/usr/local/lib/python3.6/dist-packages/rlscore/utilities/array_tools.py:43: FutureWarning: Conversion of the second argument of issubdtype from `int` to `np.signedinteger` is deprecated. In future, it will be treated as `np.int64 == np.dtype(int).type`.\n",
            "  if not np.issubdtype(A.dtype, int) and not np.issubdtype(A.dtype, float):\n",
            "/usr/local/lib/python3.6/dist-packages/rlscore/utilities/array_tools.py:43: FutureWarning: Conversion of the second argument of issubdtype from `float` to `np.floating` is deprecated. In future, it will be treated as `np.float64 == np.dtype(float).type`.\n",
            "  if not np.issubdtype(A.dtype, int) and not np.issubdtype(A.dtype, float):\n"
          ],
          "name": "stderr"
        },
        {
          "output_type": "stream",
          "text": [
            "best parameters gamma 0.000031 regparam 1.000000\n",
            "best leave-one-out error 1.259181\n",
            "test error 1.257212\n"
          ],
          "name": "stdout"
        }
      ]
    },
    {
      "cell_type": "markdown",
      "metadata": {
        "id": "BD8aVP-e6MxU",
        "colab_type": "text"
      },
      "source": [
        "Naive-Bayes"
      ]
    },
    {
      "cell_type": "code",
      "metadata": {
        "id": "P0kO2Se46R18",
        "colab_type": "code",
        "outputId": "ac9eb455-bfa0-4894-e450-d7ed12fb767c",
        "colab": {
          "base_uri": "https://localhost:8080/",
          "height": 50
        }
      },
      "source": [
        "from sklearn.naive_bayes import MultinomialNB\n",
        "from sklearn.naive_bayes import GaussianNB\n",
        "from sklearn import metrics\n",
        "from sklearn.model_selection import cross_val_score\n",
        "from sklearn.model_selection import train_test_split\n",
        "\n",
        "X_train,X_test,Y_train,Y_test = train_test_split(dfnorm,dfclass, test_size = 0.3, random_state = 900)\n",
        "gnb = GaussianNB()\n",
        "\n",
        "gnb.fit(X_train, Y_train)\n",
        "\n",
        "y_pred = gnb.predict(X_test)\n",
        "\n",
        "print('Accuracy GaussianNB: {}'.format(metrics.accuracy_score(Y_test, y_pred)))\n",
        "\n",
        "gnb = MultinomialNB()\n",
        "\n",
        "gnb.fit(X_train, Y_train)\n",
        "\n",
        "y_pred = gnb.predict(X_test)\n",
        "\n",
        "print('Accuracy MultinominalNB: {}'.format(metrics.accuracy_score(Y_test, y_pred)))\n"
      ],
      "execution_count": 0,
      "outputs": [
        {
          "output_type": "stream",
          "text": [
            "Accuracy GaussianNB: 0.2548076923076923\n",
            "Accuracy MultinominalNB: 0.27163461538461536\n"
          ],
          "name": "stdout"
        }
      ]
    }
  ]
}