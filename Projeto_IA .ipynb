{
 "cells": [
  {
   "cell_type": "markdown",
   "metadata": {},
   "source": [
    "Projeto de predição de Hepatite c\n",
    "\n",
    "Equipe: Daniel Lemos\n",
    "        Rafael Targino\n",
    "        \n",
    "Data_Set: https://archive.ics.uci.edu/ml/machine-learning-databases/00503/HCV-Egy-Data.zip\n",
    "\n",
    "\n",
    "Passos:\n",
    "Ler os dados e normalizá-los cross-validation 10 folds\n",
    "Utilizar os seguintes algoritimos:\n",
    "1- KNN variando o K(1,3,5,10)\n",
    "2- Naive-Bayes\n",
    "3- Arvore de Decisão (Random Forrest) variando o numero de florestas\n",
    "4- RLScore(variando o numero de kernels)"
   ]
  },
  {
   "cell_type": "code",
   "execution_count": null,
   "metadata": {},
   "outputs": [],
   "source": []
  }
 ],
 "metadata": {
  "kernelspec": {
   "display_name": "Python 3",
   "language": "python",
   "name": "python3"
  },
  "language_info": {
   "codemirror_mode": {
    "name": "ipython",
    "version": 3
   },
   "file_extension": ".py",
   "mimetype": "text/x-python",
   "name": "python",
   "nbconvert_exporter": "python",
   "pygments_lexer": "ipython3",
   "version": "3.7.3"
  }
 },
 "nbformat": 4,
 "nbformat_minor": 2
}
