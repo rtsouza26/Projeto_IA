{
  "nbformat": 4,
  "nbformat_minor": 0,
  "metadata": {
    "kernelspec": {
      "display_name": "Python 3",
      "language": "python",
      "name": "python3"
    },
    "language_info": {
      "codemirror_mode": {
        "name": "ipython",
        "version": 3
      },
      "file_extension": ".py",
      "mimetype": "text/x-python",
      "name": "python",
      "nbconvert_exporter": "python",
      "pygments_lexer": "ipython3",
      "version": "3.7.3"
    },
    "colab": {
      "name": "Projeto_IA .ipynb",
      "provenance": []
    }
  },
  "cells": [
    {
      "cell_type": "markdown",
      "metadata": {
        "id": "WQUYiLuy_KfJ",
        "colab_type": "text"
      },
      "source": [
        "Projeto de predição de grau de estado deterioração do figado devido ao HCV\n",
        "\n",
        "Equipe: Daniel Lemos,\n",
        "        Rafael Targino\n",
        "        \n",
        "Data_Set: https://archive.ics.uci.edu/ml/machine-learning-databases/00503/HCV-Egy-Data.zip\n",
        "\n",
        "\n",
        "Passos:\n",
        "Ler os dados e normalizá-los cross-validation 10 folds\n",
        "Utilizar os seguintes algoritimos:\n",
        "1- KNN variando o K(1,3,5,10)\n",
        "2- Naive-Bayes\n",
        "3- Arvore de Decisão (Random Forrest) variando o numero de florestas\n",
        "4- RLScore(variando o numero de kernels)"
      ]
    },
    {
      "cell_type": "code",
      "metadata": {
        "id": "OKKUBivC_KfP",
        "colab_type": "code",
        "outputId": "73471a07-6e29-42ed-e40a-487c21efa0e5",
        "colab": {
          "base_uri": "https://localhost:8080/",
          "height": 185
        }
      },
      "source": [
        "!pip install rlscore\n",
        "import numpy as np\n",
        "from sklearn.model_selection import KFold\n",
        "from sklearn import preprocessing\n",
        "from sklearn import preprocessing\n",
        "import pandas as pd\n",
        "import matplotlib.pyplot as pl\n",
        "%matplotlib inline"
      ],
      "execution_count": 1,
      "outputs": [
        {
          "output_type": "stream",
          "text": [
            "Collecting rlscore\n",
            "\u001b[?25l  Downloading https://files.pythonhosted.org/packages/f8/25/bdf769f00b65602aa9fa7a1c674c6a508c427249e1ee8f2e1e1d7adcadad/rlscore-0.8.1.tar.gz (778kB)\n",
            "\r\u001b[K     |▍                               | 10kB 18.0MB/s eta 0:00:01\r\u001b[K     |▉                               | 20kB 3.2MB/s eta 0:00:01\r\u001b[K     |█▎                              | 30kB 4.6MB/s eta 0:00:01\r\u001b[K     |█▊                              | 40kB 3.0MB/s eta 0:00:01\r\u001b[K     |██                              | 51kB 3.7MB/s eta 0:00:01\r\u001b[K     |██▌                             | 61kB 4.4MB/s eta 0:00:01\r\u001b[K     |███                             | 71kB 5.1MB/s eta 0:00:01\r\u001b[K     |███▍                            | 81kB 5.7MB/s eta 0:00:01\r\u001b[K     |███▉                            | 92kB 6.4MB/s eta 0:00:01\r\u001b[K     |████▏                           | 102kB 5.0MB/s eta 0:00:01\r\u001b[K     |████▋                           | 112kB 5.0MB/s eta 0:00:01\r\u001b[K     |█████                           | 122kB 5.0MB/s eta 0:00:01\r\u001b[K     |█████▌                          | 133kB 5.0MB/s eta 0:00:01\r\u001b[K     |██████                          | 143kB 5.0MB/s eta 0:00:01\r\u001b[K     |██████▎                         | 153kB 5.0MB/s eta 0:00:01\r\u001b[K     |██████▊                         | 163kB 5.0MB/s eta 0:00:01\r\u001b[K     |███████▏                        | 174kB 5.0MB/s eta 0:00:01\r\u001b[K     |███████▋                        | 184kB 5.0MB/s eta 0:00:01\r\u001b[K     |████████                        | 194kB 5.0MB/s eta 0:00:01\r\u001b[K     |████████▍                       | 204kB 5.0MB/s eta 0:00:01\r\u001b[K     |████████▉                       | 215kB 5.0MB/s eta 0:00:01\r\u001b[K     |█████████▎                      | 225kB 5.0MB/s eta 0:00:01\r\u001b[K     |█████████▊                      | 235kB 5.0MB/s eta 0:00:01\r\u001b[K     |██████████                      | 245kB 5.0MB/s eta 0:00:01\r\u001b[K     |██████████▌                     | 256kB 5.0MB/s eta 0:00:01\r\u001b[K     |███████████                     | 266kB 5.0MB/s eta 0:00:01\r\u001b[K     |███████████▍                    | 276kB 5.0MB/s eta 0:00:01\r\u001b[K     |███████████▉                    | 286kB 5.0MB/s eta 0:00:01\r\u001b[K     |████████████▏                   | 296kB 5.0MB/s eta 0:00:01\r\u001b[K     |████████████▋                   | 307kB 5.0MB/s eta 0:00:01\r\u001b[K     |█████████████                   | 317kB 5.0MB/s eta 0:00:01\r\u001b[K     |█████████████▌                  | 327kB 5.0MB/s eta 0:00:01\r\u001b[K     |█████████████▉                  | 337kB 5.0MB/s eta 0:00:01\r\u001b[K     |██████████████▎                 | 348kB 5.0MB/s eta 0:00:01\r\u001b[K     |██████████████▊                 | 358kB 5.0MB/s eta 0:00:01\r\u001b[K     |███████████████▏                | 368kB 5.0MB/s eta 0:00:01\r\u001b[K     |███████████████▋                | 378kB 5.0MB/s eta 0:00:01\r\u001b[K     |████████████████                | 389kB 5.0MB/s eta 0:00:01\r\u001b[K     |████████████████▍               | 399kB 5.0MB/s eta 0:00:01\r\u001b[K     |████████████████▉               | 409kB 5.0MB/s eta 0:00:01\r\u001b[K     |█████████████████▎              | 419kB 5.0MB/s eta 0:00:01\r\u001b[K     |█████████████████▊              | 430kB 5.0MB/s eta 0:00:01\r\u001b[K     |██████████████████              | 440kB 5.0MB/s eta 0:00:01\r\u001b[K     |██████████████████▌             | 450kB 5.0MB/s eta 0:00:01\r\u001b[K     |███████████████████             | 460kB 5.0MB/s eta 0:00:01\r\u001b[K     |███████████████████▍            | 471kB 5.0MB/s eta 0:00:01\r\u001b[K     |███████████████████▊            | 481kB 5.0MB/s eta 0:00:01\r\u001b[K     |████████████████████▏           | 491kB 5.0MB/s eta 0:00:01\r\u001b[K     |████████████████████▋           | 501kB 5.0MB/s eta 0:00:01\r\u001b[K     |█████████████████████           | 512kB 5.0MB/s eta 0:00:01\r\u001b[K     |█████████████████████▌          | 522kB 5.0MB/s eta 0:00:01\r\u001b[K     |█████████████████████▉          | 532kB 5.0MB/s eta 0:00:01\r\u001b[K     |██████████████████████▎         | 542kB 5.0MB/s eta 0:00:01\r\u001b[K     |██████████████████████▊         | 552kB 5.0MB/s eta 0:00:01\r\u001b[K     |███████████████████████▏        | 563kB 5.0MB/s eta 0:00:01\r\u001b[K     |███████████████████████▋        | 573kB 5.0MB/s eta 0:00:01\r\u001b[K     |████████████████████████        | 583kB 5.0MB/s eta 0:00:01\r\u001b[K     |████████████████████████▍       | 593kB 5.0MB/s eta 0:00:01\r\u001b[K     |████████████████████████▉       | 604kB 5.0MB/s eta 0:00:01\r\u001b[K     |█████████████████████████▎      | 614kB 5.0MB/s eta 0:00:01\r\u001b[K     |█████████████████████████▋      | 624kB 5.0MB/s eta 0:00:01\r\u001b[K     |██████████████████████████      | 634kB 5.0MB/s eta 0:00:01\r\u001b[K     |██████████████████████████▌     | 645kB 5.0MB/s eta 0:00:01\r\u001b[K     |███████████████████████████     | 655kB 5.0MB/s eta 0:00:01\r\u001b[K     |███████████████████████████▍    | 665kB 5.0MB/s eta 0:00:01\r\u001b[K     |███████████████████████████▊    | 675kB 5.0MB/s eta 0:00:01\r\u001b[K     |████████████████████████████▏   | 686kB 5.0MB/s eta 0:00:01\r\u001b[K     |████████████████████████████▋   | 696kB 5.0MB/s eta 0:00:01\r\u001b[K     |█████████████████████████████   | 706kB 5.0MB/s eta 0:00:01\r\u001b[K     |█████████████████████████████▌  | 716kB 5.0MB/s eta 0:00:01\r\u001b[K     |█████████████████████████████▉  | 727kB 5.0MB/s eta 0:00:01\r\u001b[K     |██████████████████████████████▎ | 737kB 5.0MB/s eta 0:00:01\r\u001b[K     |██████████████████████████████▊ | 747kB 5.0MB/s eta 0:00:01\r\u001b[K     |███████████████████████████████▏| 757kB 5.0MB/s eta 0:00:01\r\u001b[K     |███████████████████████████████▌| 768kB 5.0MB/s eta 0:00:01\r\u001b[K     |████████████████████████████████| 778kB 5.0MB/s eta 0:00:01\r\u001b[K     |████████████████████████████████| 788kB 5.0MB/s \n",
            "\u001b[?25hBuilding wheels for collected packages: rlscore\n",
            "  Building wheel for rlscore (setup.py) ... \u001b[?25l\u001b[?25hdone\n",
            "  Created wheel for rlscore: filename=rlscore-0.8.1-cp36-cp36m-linux_x86_64.whl size=1824820 sha256=866f1aa6c52f91f775baaf4a10341863461601b692e08d58946532af9c462ee1\n",
            "  Stored in directory: /root/.cache/pip/wheels/96/d7/27/cd7b2182c3f5c012dbbf9a8507116b9c49140ffc733223c07b\n",
            "Successfully built rlscore\n",
            "Installing collected packages: rlscore\n",
            "Successfully installed rlscore-0.8.1\n"
          ],
          "name": "stdout"
        }
      ]
    },
    {
      "cell_type": "markdown",
      "metadata": {
        "id": "zFLWhXJIMtm0",
        "colab_type": "text"
      },
      "source": [
        "Base de dados de pacientes egípcios que foram submetidos a doses de tratamento para HCV cerca de 18 meses. A discretização deve ser aplicada com base em recomendações de especialistas; há um arquivo anexado mostra como.\n",
        "\n",
        "A base de dados reúne cerca de \n",
        "\n",
        "Os dados apresentão o estágio inicial da entrada dos pacientes e as taxas , o problema é diagnosticar o grau de degradação do fígado através dos exames previamente levantados, sem a necessidade de exame de ultrasom ou histológico, ou seja prever o resultado do exame histológio acelerando assim que tipo de tratamento aplicar.\n",
        "as classes são não fibroso que significa saldável, fibroso, fibroso com poucas cepas do vírus, fibroso com muitas cepas e cirrose.\n"
      ]
    },
    {
      "cell_type": "code",
      "metadata": {
        "id": "_8SQ07ME9uiL",
        "colab_type": "code",
        "outputId": "a62cd1b2-32df-4333-c1fb-aa829f9512e5",
        "colab": {
          "base_uri": "https://localhost:8080/",
          "height": 514
        }
      },
      "source": [
        "df = pd.read_csv(\"https://drive.google.com/uc?authuser=0&id=1S2HnHU5zoI7ERYhVd8naSaUMt0eJZW3L&export=download\")\n",
        "\n",
        "columns = df.columns\n",
        "\n",
        "\n",
        "ax = df['Baselinehistological staging'].value_counts().plot.bar()\n",
        "print(ax)\n",
        "classes = df['Baselinehistological staging'].unique()\n",
        "\n",
        "index_amostra= list()\n",
        "index_1 = 0\n",
        "index_3 = 0\n",
        "index_4 = 0\n",
        "index_2 = 0\n",
        "for x in df.index:\n",
        "  if index_2<332:\n",
        "    if df.loc[x,'Baselinehistological staging'] == 2:\n",
        "      index_amostra.append(x)\n",
        "      index_2= index_2+1\n",
        "  if index_4<332:    \n",
        "    if df.loc[x,'Baselinehistological staging'] == 4:\n",
        "      index_amostra.append(x)\n",
        "      index_4 = index_4 +1\n",
        "  if index_3<332:\n",
        "    if df.loc[x,'Baselinehistological staging'] == 3:\n",
        "      index_amostra.append(x)\n",
        "      index_3 = index_3 +1\n",
        "  if index_1<332:\n",
        "    if df.loc[x,'Baselinehistological staging'] ==1:\n",
        "      index_amostra.append(x)\n",
        "      index_1 = index_1 +1\n",
        "dfAvalues = []\n",
        "for g in index_amostra:\n",
        "  dfAvalues.append(df.iloc[g].values)\n",
        "\n",
        "dfAmostra = pd.DataFrame(dfAvalues,columns=columns)\n",
        "print(dfAmostra)\n"
      ],
      "execution_count": 8,
      "outputs": [
        {
          "output_type": "stream",
          "text": [
            "AxesSubplot(0.125,0.125;0.775x0.755)\n",
            "      Age   Gender  ...  Baseline histological Grading  Baselinehistological staging\n",
            "0     56.0     1.0  ...                           13.0                           2.0\n",
            "1     46.0     1.0  ...                            4.0                           2.0\n",
            "2     57.0     1.0  ...                            4.0                           4.0\n",
            "3     49.0     2.0  ...                           10.0                           3.0\n",
            "4     59.0     1.0  ...                           11.0                           1.0\n",
            "...    ...     ...  ...                            ...                           ...\n",
            "1323  59.0     1.0  ...                           16.0                           2.0\n",
            "1324  46.0     1.0  ...                           11.0                           2.0\n",
            "1325  52.0     2.0  ...                           16.0                           2.0\n",
            "1326  55.0     1.0  ...                           10.0                           2.0\n",
            "1327  42.0     1.0  ...                            6.0                           2.0\n",
            "\n",
            "[1328 rows x 29 columns]\n"
          ],
          "name": "stdout"
        },
        {
          "output_type": "display_data",
          "data": {
            "image/png": "[encoded data removed]",
            "text/plain": [
              "<Figure size 432x288 with 1 Axes>"
            ]
          },
          "metadata": {
            "tags": []
          }
        }
      ]
    },
    {
      "cell_type": "markdown",
      "metadata": {
        "id": "b-5pjiqxu0t0",
        "colab_type": "text"
      },
      "source": [
        "Preparação dos dados de três formas diferentes, sendo escalados entre 0 e 1, valores absolutos  e normalizados, gerando três dataframes diferentes para os testes, separação das labels do Features."
      ]
    },
    {
      "cell_type": "code",
      "metadata": {
        "id": "SPQzqa5Mobvv",
        "colab_type": "code",
        "outputId": "7829ddfc-2efb-4380-d844-ac2193ea8ad4",
        "colab": {
          "base_uri": "https://localhost:8080/",
          "height": 288
        }
      },
      "source": [
        "from sklearn import preprocessing\n",
        "dfclass = pd.Series(dfAmostra['Baselinehistological staging'])\n",
        "dfsclass = pd.DataFrame(dfAmostra.iloc[:,0:28]) \n",
        "\n",
        "columns = dfsclass.columns\n",
        "ax = dfclass.value_counts().plot.bar()\n",
        "print(ax)\n",
        "\n",
        "repcolumns = list()\n",
        "for index, column in enumerate(columns):\n",
        "  column = column.replace(\" \",\"\")\n",
        "  repcolumns.append(column)\n",
        "x = dfsclass.values\n",
        "x_scale = preprocessing.scale(dfsclass)\n",
        "x_normal = preprocessing.normalize(dfsclass, norm='l1')\n",
        "min_max_scaler = preprocessing.MinMaxScaler()\n",
        "max_abs_scaler = preprocessing.MaxAbsScaler()\n",
        "x_scaled = min_max_scaler.fit_transform(dfsclass)\n",
        "x_abs = max_abs_scaler.fit_transform(dfsclass)\n",
        "\n",
        "\n",
        "dfnorm = pd.DataFrame(x_normal, columns = repcolumns)\n",
        "df_abs = pd.DataFrame(x_abs, columns = repcolumns)\n",
        "df_scale = pd.DataFrame(x_scaled, columns = repcolumns)\n",
        "\n",
        "dfL = {'Normalizado': dfnorm,'Valor_Absoluto': df_abs,'Escalado': df_scale}\n",
        "\n",
        "\n"
      ],
      "execution_count": 69,
      "outputs": [
        {
          "output_type": "stream",
          "text": [
            "AxesSubplot(0.125,0.125;0.775x0.755)\n"
          ],
          "name": "stdout"
        },
        {
          "output_type": "display_data",
          "data": {
            "image/png": "[encoded data removed]",
            "text/plain": [
              "<Figure size 432x288 with 1 Axes>"
            ]
          },
          "metadata": {
            "tags": []
          }
        }
      ]
    },
    {
      "cell_type": "markdown",
      "metadata": {
        "id": "03SRRxzrukAg",
        "colab_type": "text"
      },
      "source": [
        "Geração dos kfolds"
      ]
    },
    {
      "cell_type": "code",
      "metadata": {
        "id": "P0kO2Se46R18",
        "colab_type": "code",
        "colab": {}
      },
      "source": [
        "\n",
        "def TesteNB(self,X_train,X_test,y_train,y_test,dfL,dl):\n",
        "  from sklearn.model_selection import cross_val_score\n",
        "  Result_cross_valG ={}\n",
        "  Result_cross_valM ={}\n",
        "  Result_AcG = {}\n",
        "  Result_AcM = {}\n",
        "\n",
        "  gnb = GaussianNB()\n",
        "  gnb.fit(X_train, y_train)\n",
        "  y_pred = gnb.predict(X_test)\n",
        "  acu = metrics.accuracy_score(y_test, y_pred)\n",
        "  Result_cross_valG[dl]=cross_val_score(gnb,dfL[dl],dfclass,cv=10)\n",
        "  if dl in Result_Ac:\n",
        "    if Result_Ac[dl]<acu:\n",
        "      Result_Ac[dl] = acu\n",
        "    else:\n",
        "      Result_Ac[dl] = acu\n",
        "\n",
        "  gnb = MultinomialNB()\n",
        "  gnb.fit(X_train, y_train)\n",
        "  y_pred = gnb.predict(X_test)\n",
        "      \n",
        "  Result_cross_in_NBG = {}\n",
        "  Result_acu_NB = {}\n",
        "  Result_cross_in_NBG[dl] = max(Result_cross_val[dl])\n",
        "  print(Result_cross_in_NB)\n",
        "  print(Result_Ac)\n",
        "\n"
      ],
      "execution_count": 0,
      "outputs": []
    },
    {
      "cell_type": "code",
      "metadata": {
        "id": "lQnbtzKStbp_",
        "colab_type": "code",
        "outputId": "28d5bf2a-4cdb-4bc0-94f8-aa0c1fe81c49",
        "colab": {
          "base_uri": "https://localhost:8080/",
          "height": 229
        }
      },
      "source": [
        "#from sklearn.model_selection import StratifiedKFold \n",
        "from sklearn.model_selection import StratifiedKFold\n",
        "from sklearn.naive_bayes import MultinomialNB\n",
        "from sklearn.naive_bayes import GaussianNB\n",
        "from sklearn.ensemble import RandomForestClassifier\n",
        "from sklearn.neighbors import KNeighborsClassifier\n",
        "from rlscore.learner import LeaveOneOutRLS\n",
        "from rlscore.measure import ova_accuracy\n",
        "from rlscore.utilities.multiclass import to_one_vs_all\n",
        "from sklearn import metrics\n",
        "\n",
        "from sklearn.model_selection import cross_val_score\n",
        "\n",
        "skf = StratifiedKFold(n_splits=10,shuffle=True)\n",
        "\n",
        "X_index = dfnorm.index\n",
        "Y_index = dfclass.index\n",
        "Resultados = list()\n",
        "Resultado_Gau = list()\n",
        "estimators =[100,200,500,800]\n",
        "neighbors = [1,3,5,10]\n",
        "\n",
        "for dl in dfL:\n",
        " \n",
        "  TesteNB(X_train,X_test,y_train,y_test,dfL,dl)\n",
        "'''for dl in dfL:\n",
        "  for Features, Labels in skf.split(dfL[dl],dfclass):\n",
        "    X_train, X_test = dfL[dl].iloc[Features], dfL[dl].iloc[Labels]\n",
        "    y_train, y_test = dfclass.iloc[Features], dfclass.iloc[Labels]\n",
        "\n",
        "    gnb = GaussianNB()\n",
        "    gnb.fit(X_train, y_train)\n",
        "    y_pred = gnb.predict(X_test)\n",
        "    acu = metrics.accuracy_score(y_test, y_pred)\n",
        "    print('Accuracy GaussianNB: {}'.format(acu))\n",
        "\n",
        "    gnb = MultinomialNB()\n",
        "    gnb.fit(X_train, y_train)\n",
        "    y_pred = gnb.predict(X_test)\n",
        "    print('Accuracy MultinominalNB: {}'.format(metrics.accuracy_score(y_test, y_pred)))\n",
        "\n",
        "    for n in estimators:\n",
        "      rf = RandomForestClassifier(n_estimators=n)\n",
        "      rf.fit(X_train,y_train)\n",
        "      predictions = rf.predict(X_test)\n",
        "      print('Accuracy com estimator {} : {}'.format(n,metrics.accuracy_score(y_test, predictions)))\n",
        "\n",
        "\n",
        "    y_train = to_one_vs_all(y_train, False)\n",
        "    y_test = to_one_vs_all(y_test, False)\n",
        "    regparams = [2.**i for i in range(-15, 16)]\n",
        "    learner = LeaveOneOutRLS(X_train, y_train, regparams=regparams, measure=ova_accuracy)\n",
        "    P_test = learner.predict(X_test)\n",
        "      \n",
        "    print(\"test set accuracy {}\".format(ova_accuracy(y_test, P_test)) )\n",
        "\n",
        "    \n",
        "  \n",
        "    y_train = to_one_vs_all(y_train, False)\n",
        "    y_test = to_one_vs_all(y_test, False)\n",
        "    regparams = [2.**i for i in range(-15, 16)]\n",
        "    learner = LeaveOneOutRLS(X_train, y_train, regparams=regparams, measure=ova_accuracy)\n",
        "    P_test = learner.predict(X_test)\n",
        "      \n",
        "    print(\"test set accuracy {}\".format(ova_accuracy(y_test, P_test)) )\n",
        "\n",
        "    for n in neighbors:\n",
        "      \n",
        "      neigh = KNeighborsClassifier(n_neighbors=n)\n",
        "      neigh.fit(X_train, y_train)\n",
        "      y_predic = neigh.predict(X_test,y_test)\n",
        "  '''\n"
      ],
      "execution_count": 79,
      "outputs": [
        {
          "output_type": "error",
          "ename": "TypeError",
          "evalue": "ignored",
          "traceback": [
            "\u001b[0;31m---------------------------------------------------------------------------\u001b[0m",
            "\u001b[0;31mTypeError\u001b[0m                                 Traceback (most recent call last)",
            "\u001b[0;32m<ipython-input-79-7ef8b603a1ea>\u001b[0m in \u001b[0;36m<module>\u001b[0;34m()\u001b[0m\n\u001b[1;32m     22\u001b[0m \u001b[0;32mfor\u001b[0m \u001b[0mdl\u001b[0m \u001b[0;32min\u001b[0m \u001b[0mdfL\u001b[0m\u001b[0;34m:\u001b[0m\u001b[0;34m\u001b[0m\u001b[0;34m\u001b[0m\u001b[0m\n\u001b[1;32m     23\u001b[0m \u001b[0;34m\u001b[0m\u001b[0m\n\u001b[0;32m---> 24\u001b[0;31m   \u001b[0mTesteNB\u001b[0m\u001b[0;34m(\u001b[0m\u001b[0mX_train\u001b[0m\u001b[0;34m,\u001b[0m\u001b[0mX_test\u001b[0m\u001b[0;34m,\u001b[0m\u001b[0my_train\u001b[0m\u001b[0;34m,\u001b[0m\u001b[0my_test\u001b[0m\u001b[0;34m,\u001b[0m\u001b[0mdfL\u001b[0m\u001b[0;34m,\u001b[0m\u001b[0mdl\u001b[0m\u001b[0;34m)\u001b[0m\u001b[0;34m\u001b[0m\u001b[0;34m\u001b[0m\u001b[0m\n\u001b[0m\u001b[1;32m     25\u001b[0m '''for dl in dfL:\n\u001b[1;32m     26\u001b[0m   \u001b[0;32mfor\u001b[0m \u001b[0mFeatures\u001b[0m\u001b[0;34m,\u001b[0m \u001b[0mLabels\u001b[0m \u001b[0;32min\u001b[0m \u001b[0mskf\u001b[0m\u001b[0;34m.\u001b[0m\u001b[0msplit\u001b[0m\u001b[0;34m(\u001b[0m\u001b[0mdfL\u001b[0m\u001b[0;34m[\u001b[0m\u001b[0mdl\u001b[0m\u001b[0;34m]\u001b[0m\u001b[0;34m,\u001b[0m\u001b[0mdfclass\u001b[0m\u001b[0;34m)\u001b[0m\u001b[0;34m:\u001b[0m\u001b[0;34m\u001b[0m\u001b[0;34m\u001b[0m\u001b[0m\n",
            "\u001b[0;31mTypeError\u001b[0m: TesteNB() missing 1 required positional argument: 'dl'"
          ]
        }
      ]
    },
    {
      "cell_type": "code",
      "metadata": {
        "id": "wToYQZE0aewH",
        "colab_type": "code",
        "colab": {}
      },
      "source": [
        ""
      ],
      "execution_count": 0,
      "outputs": []
    },
    {
      "cell_type": "code",
      "metadata": {
        "id": "_6NZFbb3FU3x",
        "colab_type": "code",
        "outputId": "b01cef8b-0b69-4be8-a6a4-6e73addd5fc1",
        "colab": {
          "base_uri": "https://localhost:8080/",
          "height": 272
        }
      },
      "source": [
        "from rlscore.learner import LeaveOneOutRLS\n",
        "from rlscore.measure import ova_accuracy\n",
        "from rlscore.utilities.multiclass import to_one_vs_all\n",
        "\n",
        "import numpy as np\n",
        "\n",
        "\n",
        "\n",
        "\n",
        "\n",
        "def train_rls():\n",
        "   \n",
        "    for Features, Labels in skf.split(dl,dfclass):\n",
        "      X_train, X_test = dfsclass.iloc[Features], dfsclass.iloc[Labels]\n",
        "      y_train, y_test = dfclass.iloc[Features], dfclass.iloc[Labels]\n",
        "      y_train = to_one_vs_all(y_train, False)\n",
        "      y_test = to_one_vs_all(y_test, False)\n",
        "      regparams = [2.**i for i in range(-15, 16)]\n",
        "      learner = LeaveOneOutRLS(X_train, y_train, regparams=regparams, measure=ova_accuracy)\n",
        "      P_test = learner.predict(X_test)\n",
        "      \n",
        "      print(\"test set accuracy {}\".format(ova_accuracy(y_test, P_test)) )\n",
        "\n",
        "train_rls()"
      ],
      "execution_count": 0,
      "outputs": [
        {
          "output_type": "stream",
          "text": [
            "/usr/local/lib/python3.6/dist-packages/rlscore/utilities/array_tools.py:43: FutureWarning: Conversion of the second argument of issubdtype from `int` to `np.signedinteger` is deprecated. In future, it will be treated as `np.int64 == np.dtype(int).type`.\n",
            "  if not np.issubdtype(A.dtype, int) and not np.issubdtype(A.dtype, float):\n",
            "/usr/local/lib/python3.6/dist-packages/rlscore/utilities/array_tools.py:43: FutureWarning: Conversion of the second argument of issubdtype from `float` to `np.floating` is deprecated. In future, it will be treated as `np.float64 == np.dtype(float).type`.\n",
            "  if not np.issubdtype(A.dtype, int) and not np.issubdtype(A.dtype, float):\n"
          ],
          "name": "stderr"
        },
        {
          "output_type": "stream",
          "text": [
            "test set accuracy 0.2727272727272727\n",
            "test set accuracy 0.23484848484848486\n",
            "test set accuracy 0.2803030303030303\n",
            "test set accuracy 0.25757575757575757\n",
            "test set accuracy 0.29545454545454547\n",
            "test set accuracy 0.19696969696969696\n",
            "test set accuracy 0.25757575757575757\n",
            "test set accuracy 0.2196969696969697\n",
            "test set accuracy 0.2196969696969697\n",
            "test set accuracy 0.29545454545454547\n"
          ],
          "name": "stdout"
        }
      ]
    },
    {
      "cell_type": "markdown",
      "metadata": {
        "id": "BD8aVP-e6MxU",
        "colab_type": "text"
      },
      "source": [
        "Naive-Bayes"
      ]
    },
    {
      "cell_type": "markdown",
      "metadata": {
        "id": "E288HjBPsocs",
        "colab_type": "text"
      },
      "source": [
        "Random Forrest"
      ]
    },
    {
      "cell_type": "code",
      "metadata": {
        "id": "nLu_i0assqzj",
        "colab_type": "code",
        "outputId": "3496d291-6863-4f70-d943-2206db8cc9bf",
        "colab": {
          "base_uri": "https://localhost:8080/",
          "height": 218
        }
      },
      "source": [
        "import numpy as np\n",
        "import pandas as pd\n",
        "from sklearn.model_selection import train_test_split\n",
        "from sklearn.ensemble import RandomForestClassifier\n",
        "\n",
        "estimators =[100,200,500,800]\n",
        "\n",
        "for df in dfL:\n",
        "  for n in estimators:\n",
        "    train_features, test_features, train_labels, test_labels = train_test_split(df, dfclass, test_size = 0.25, random_state = 42)\n",
        "    rf = RandomForestClassifier(n_estimators=n)\n",
        "\n",
        "    rf.fit(train_features,train_labels)\n",
        "    predictions = rf.predict(test_features)\n",
        "    print('Accuracy com estimator {} : {}'.format(n,metrics.accuracy_score(test_labels, predictions)))\n",
        "  "
      ],
      "execution_count": 0,
      "outputs": [
        {
          "output_type": "stream",
          "text": [
            "Accuracy com estimator 100 : 0.29394812680115273\n",
            "Accuracy com estimator 200 : 0.29394812680115273\n",
            "Accuracy com estimator 500 : 0.2824207492795389\n",
            "Accuracy com estimator 800 : 0.3285302593659942\n",
            "Accuracy com estimator 100 : 0.24495677233429394\n",
            "Accuracy com estimator 200 : 0.2478386167146974\n",
            "Accuracy com estimator 500 : 0.26512968299711814\n",
            "Accuracy com estimator 800 : 0.24495677233429394\n",
            "Accuracy com estimator 100 : 0.25936599423631124\n",
            "Accuracy com estimator 200 : 0.2737752161383285\n",
            "Accuracy com estimator 500 : 0.2478386167146974\n",
            "Accuracy com estimator 800 : 0.2737752161383285\n"
          ],
          "name": "stdout"
        }
      ]
    },
    {
      "cell_type": "markdown",
      "metadata": {
        "id": "mIo5PLfFtuzk",
        "colab_type": "text"
      },
      "source": [
        "KNN"
      ]
    },
    {
      "cell_type": "code",
      "metadata": {
        "id": "jFxR8gjgtw3X",
        "colab_type": "code",
        "colab": {
          "base_uri": "https://localhost:8080/",
          "height": 218
        },
        "outputId": "3f822825-a010-4cf1-97ec-40aa19ccf80c"
      },
      "source": [
        "from sklearn.model_selection import train_test_split\n",
        "from sklearn.neighbors import KNeighborsClassifier\n",
        "from sklearn.metrics import accuracy_score\n",
        "\n",
        "neighbors = [1,3,5,10]\n",
        "\n",
        "for df in dfL:\n",
        "  for n in neighbors:\n",
        "    train_features, test_features, train_labels, test_labels = train_test_split(df, dfclass, test_size = 0.25, random_state = 42)\n",
        "    neigh = KNeighborsClassifier(n_neighbors=3)\n",
        "    neigh.fit(train_features, train_labels)\n",
        "    y_predic = neigh.predict(test_features)\n",
        "    acc = accuracy_score(test_labels,y_predic)    \n",
        "    print(acc)\n",
        "\n"
      ],
      "execution_count": 13,
      "outputs": [
        {
          "output_type": "stream",
          "text": [
            "0.22590361445783133\n",
            "0.22590361445783133\n",
            "0.22590361445783133\n",
            "0.22590361445783133\n",
            "0.22590361445783133\n",
            "0.22590361445783133\n",
            "0.22590361445783133\n",
            "0.22590361445783133\n",
            "0.24096385542168675\n",
            "0.24096385542168675\n",
            "0.24096385542168675\n",
            "0.24096385542168675\n"
          ],
          "name": "stdout"
        }
      ]
    }
  ]
}