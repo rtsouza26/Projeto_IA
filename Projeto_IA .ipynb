{
  "nbformat": 4,
  "nbformat_minor": 0,
  "metadata": {
    "kernelspec": {
      "display_name": "Python 3",
      "language": "python",
      "name": "python3"
    },
    "language_info": {
      "codemirror_mode": {
        "name": "ipython",
        "version": 3
      },
      "file_extension": ".py",
      "mimetype": "text/x-python",
      "name": "python",
      "nbconvert_exporter": "python",
      "pygments_lexer": "ipython3",
      "version": "3.7.3"
    },
    "colab": {
      "name": "Projeto_IA .ipynb",
      "provenance": []
    }
  },
  "cells": [
    {
      "cell_type": "markdown",
      "metadata": {
        "id": "WQUYiLuy_KfJ",
        "colab_type": "text"
      },
      "source": [
        "Projeto de predição de Hepatite c\n",
        "\n",
        "Equipe: Daniel Lemos\n",
        "        Rafael Targino\n",
        "        \n",
        "Data_Set: https://archive.ics.uci.edu/ml/machine-learning-databases/00503/HCV-Egy-Data.zip\n",
        "\n",
        "\n",
        "Passos:\n",
        "Ler os dados e normalizá-los cross-validation 10 folds\n",
        "Utilizar os seguintes algoritimos:\n",
        "1- KNN variando o K(1,3,5,10)\n",
        "2- Naive-Bayes\n",
        "3- Arvore de Decisão (Random Forrest) variando o numero de florestas\n",
        "4- RLScore(variando o numero de kernels)"
      ]
    },
    {
      "cell_type": "code",
      "metadata": {
        "id": "OKKUBivC_KfP",
        "colab_type": "code",
        "colab": {
          "base_uri": "https://localhost:8080/",
          "height": 34
        },
        "outputId": "6167fa04-ba46-4437-e32a-80e80dbc35cb"
      },
      "source": [
        "import numpy as np\n",
        "from sklearn.model_selection import KFold\n",
        "from sklearn import preprocessing\n",
        "from sklearn import preprocessing\n",
        "import pandas as pd\n",
        "%pylab inline"
      ],
      "execution_count": 151,
      "outputs": [
        {
          "output_type": "stream",
          "text": [
            "Populating the interactive namespace from numpy and matplotlib\n"
          ],
          "name": "stdout"
        }
      ]
    },
    {
      "cell_type": "code",
      "metadata": {
        "id": "_8SQ07ME9uiL",
        "colab_type": "code",
        "colab": {}
      },
      "source": [
        "df = pd.read_csv(\"https://drive.google.com/uc?authuser=0&id=1S2HnHU5zoI7ERYhVd8naSaUMt0eJZW3L&export=download\")\n",
        "columns = df.columns\n",
        "from sklearn import preprocessing\n",
        "\n"
      ],
      "execution_count": 0,
      "outputs": []
    },
    {
      "cell_type": "code",
      "metadata": {
        "id": "SPQzqa5Mobvv",
        "colab_type": "code",
        "colab": {}
      },
      "source": [
        "from sklearn import preprocessing\n",
        "repcolumns = list()\n",
        "for index, column in enumerate(columns):\n",
        "  column = column.replace(\" \",\"\")\n",
        "  repcolumns.append(column)\n",
        "x = df.values\n",
        "min_max_scaler = preprocessing.MinMaxScaler()\n",
        "x_scaled = min_max_scaler.fit_transform(x)\n",
        "df = pd.DataFrame(x_scaled, columns = repcolumns)\n",
        "\n"
      ],
      "execution_count": 0,
      "outputs": []
    },
    {
      "cell_type": "code",
      "metadata": {
        "id": "lQnbtzKStbp_",
        "colab_type": "code",
        "colab": {
          "base_uri": "https://localhost:8080/",
          "height": 1000
        },
        "outputId": "4ced3320-0510-482f-d20b-ef2a43eb0c52"
      },
      "source": [
        "\n",
        "kf = KFold(n_splits = 7, shuffle = True, random_state = 5)\n",
        "result = next(kf.split(df), None)\n",
        "\n",
        "train = df.iloc[result[0]]\n",
        "test = df.iloc[result[1]]\n",
        "print(train)\n",
        "print(test)\n"
      ],
      "execution_count": 161,
      "outputs": [
        {
          "output_type": "stream",
          "text": [
            "           Age  ...  Baselinehistologicalstaging\n",
            "0     0.827586  ...                     0.333333\n",
            "1     0.482759  ...                     0.333333\n",
            "2     0.862069  ...                     1.000000\n",
            "4     0.931034  ...                     0.000000\n",
            "5     0.896552  ...                     1.000000\n",
            "6     0.344828  ...                     1.000000\n",
            "8     0.413793  ...                     0.333333\n",
            "9     0.448276  ...                     0.333333\n",
            "10    0.172414  ...                     0.333333\n",
            "12    0.448276  ...                     0.000000\n",
            "13    0.068966  ...                     0.333333\n",
            "14    0.275862  ...                     0.333333\n",
            "16    1.000000  ...                     1.000000\n",
            "17    0.793103  ...                     0.666667\n",
            "18    0.827586  ...                     1.000000\n",
            "19    0.103448  ...                     1.000000\n",
            "20    0.862069  ...                     0.333333\n",
            "21    0.034483  ...                     0.000000\n",
            "22    0.310345  ...                     0.666667\n",
            "24    0.034483  ...                     0.666667\n",
            "25    0.379310  ...                     1.000000\n",
            "26    0.655172  ...                     0.000000\n",
            "27    0.241379  ...                     0.333333\n",
            "28    0.862069  ...                     0.666667\n",
            "29    0.517241  ...                     0.000000\n",
            "30    0.793103  ...                     0.000000\n",
            "31    0.896552  ...                     0.333333\n",
            "33    1.000000  ...                     0.000000\n",
            "35    0.310345  ...                     0.666667\n",
            "36    0.965517  ...                     0.333333\n",
            "...        ...  ...                          ...\n",
            "1341  0.862069  ...                     0.333333\n",
            "1342  1.000000  ...                     0.333333\n",
            "1343  0.827586  ...                     0.000000\n",
            "1344  0.344828  ...                     0.000000\n",
            "1345  0.620690  ...                     1.000000\n",
            "1348  0.103448  ...                     1.000000\n",
            "1349  0.344828  ...                     1.000000\n",
            "1352  0.310345  ...                     0.000000\n",
            "1355  0.137931  ...                     0.333333\n",
            "1357  0.655172  ...                     0.000000\n",
            "1358  0.482759  ...                     0.666667\n",
            "1359  0.103448  ...                     0.000000\n",
            "1360  0.137931  ...                     0.000000\n",
            "1362  0.275862  ...                     0.666667\n",
            "1363  0.517241  ...                     0.333333\n",
            "1364  0.965517  ...                     0.000000\n",
            "1365  0.689655  ...                     0.000000\n",
            "1367  0.896552  ...                     0.333333\n",
            "1368  0.517241  ...                     0.666667\n",
            "1372  0.379310  ...                     0.666667\n",
            "1373  0.482759  ...                     1.000000\n",
            "1374  0.827586  ...                     0.000000\n",
            "1375  0.931034  ...                     0.333333\n",
            "1376  0.482759  ...                     0.333333\n",
            "1377  0.689655  ...                     0.333333\n",
            "1378  0.034483  ...                     1.000000\n",
            "1381  0.793103  ...                     0.333333\n",
            "1382  0.344828  ...                     0.333333\n",
            "1383  0.689655  ...                     0.666667\n",
            "1384  0.793103  ...                     0.666667\n",
            "\n",
            "[1108 rows x 29 columns]\n",
            "           Age  ...  Baselinehistologicalstaging\n",
            "3     0.586207  ...                     0.666667\n",
            "7     0.551724  ...                     0.666667\n",
            "11    0.137931  ...                     0.000000\n",
            "15    0.896552  ...                     0.000000\n",
            "23    0.241379  ...                     1.000000\n",
            "32    0.517241  ...                     0.000000\n",
            "34    0.172414  ...                     0.666667\n",
            "40    0.896552  ...                     0.000000\n",
            "45    0.620690  ...                     0.333333\n",
            "50    0.034483  ...                     1.000000\n",
            "51    0.827586  ...                     0.333333\n",
            "57    0.551724  ...                     1.000000\n",
            "58    0.000000  ...                     0.000000\n",
            "59    0.034483  ...                     0.000000\n",
            "71    0.758621  ...                     0.000000\n",
            "80    1.000000  ...                     0.333333\n",
            "85    0.241379  ...                     0.333333\n",
            "95    0.172414  ...                     1.000000\n",
            "101   0.827586  ...                     1.000000\n",
            "104   0.448276  ...                     0.000000\n",
            "106   0.000000  ...                     0.333333\n",
            "108   0.172414  ...                     0.333333\n",
            "117   0.724138  ...                     0.000000\n",
            "121   0.241379  ...                     0.666667\n",
            "123   0.413793  ...                     1.000000\n",
            "126   0.586207  ...                     0.000000\n",
            "133   0.689655  ...                     1.000000\n",
            "139   0.793103  ...                     1.000000\n",
            "149   0.241379  ...                     0.000000\n",
            "156   0.034483  ...                     1.000000\n",
            "...        ...  ...                          ...\n",
            "1279  1.000000  ...                     0.666667\n",
            "1282  0.413793  ...                     0.333333\n",
            "1284  0.448276  ...                     0.000000\n",
            "1286  0.241379  ...                     1.000000\n",
            "1290  0.896552  ...                     1.000000\n",
            "1297  0.758621  ...                     0.333333\n",
            "1300  0.241379  ...                     1.000000\n",
            "1304  0.586207  ...                     0.666667\n",
            "1306  0.413793  ...                     0.666667\n",
            "1310  0.379310  ...                     0.666667\n",
            "1315  0.586207  ...                     0.333333\n",
            "1317  0.103448  ...                     1.000000\n",
            "1321  0.413793  ...                     1.000000\n",
            "1322  0.517241  ...                     0.666667\n",
            "1327  0.896552  ...                     0.666667\n",
            "1334  0.689655  ...                     0.666667\n",
            "1346  0.931034  ...                     1.000000\n",
            "1347  0.310345  ...                     0.333333\n",
            "1350  0.896552  ...                     0.333333\n",
            "1351  0.379310  ...                     0.666667\n",
            "1353  0.068966  ...                     0.666667\n",
            "1354  0.655172  ...                     0.333333\n",
            "1356  0.344828  ...                     1.000000\n",
            "1361  0.000000  ...                     1.000000\n",
            "1366  0.620690  ...                     1.000000\n",
            "1369  0.000000  ...                     0.000000\n",
            "1370  1.000000  ...                     0.666667\n",
            "1371  0.586207  ...                     0.333333\n",
            "1379  0.724138  ...                     1.000000\n",
            "1380  0.413793  ...                     1.000000\n",
            "\n",
            "[277 rows x 29 columns]\n"
          ],
          "name": "stdout"
        }
      ]
    },
    {
      "cell_type": "code",
      "metadata": {
        "id": "_6NZFbb3FU3x",
        "colab_type": "code",
        "colab": {
          "base_uri": "https://localhost:8080/",
          "height": 363
        },
        "outputId": "df4a9f33-678c-483e-dd97-fe581ca7e0b1"
      },
      "source": [
        "import numpy as np\n",
        "from rlscore.learner import RLS\n",
        "from rlscore.measure import sqerror\n",
        "\n",
        "from housing_data import load_housing\n",
        "\n",
        "\n",
        "def train_rls():\n",
        "    #Trains RLS with default parameters (regparam=1.0, kernel='LinearKernel')\n",
        "    X_train, Y_train, X_test, Y_test = load_housing()\n",
        "    learner = RLS(X_train, Y_train)\n",
        "    #Leave-one-out cross-validation predictions, this is fast due to\n",
        "    #computational short-cut\n",
        "    P_loo = learner.leave_one_out()\n",
        "    #Test set predictions\n",
        "    P_test = learner.predict(X_test)\n",
        "    print(\"leave-one-out error %f\" %sqerror(Y_train, P_loo))\n",
        "    print(\"test error %f\" %sqerror(Y_test, P_test))\n",
        "    #Sanity check, can we do better than predicting mean of training labels?\n",
        "    print(\"mean predictor %f\" %sqerror(Y_test, np.ones(Y_test.shape)*np.mean(Y_train)))\n",
        "\n",
        "if __name__==\"__main__\":\n",
        "    train_rls()"
      ],
      "execution_count": 162,
      "outputs": [
        {
          "output_type": "error",
          "ename": "ModuleNotFoundError",
          "evalue": "ignored",
          "traceback": [
            "\u001b[0;31m---------------------------------------------------------------------------\u001b[0m",
            "\u001b[0;31mModuleNotFoundError\u001b[0m                       Traceback (most recent call last)",
            "\u001b[0;32m<ipython-input-162-b95dd63178c5>\u001b[0m in \u001b[0;36m<module>\u001b[0;34m()\u001b[0m\n\u001b[1;32m      1\u001b[0m \u001b[0;32mimport\u001b[0m \u001b[0mnumpy\u001b[0m \u001b[0;32mas\u001b[0m \u001b[0mnp\u001b[0m\u001b[0;34m\u001b[0m\u001b[0;34m\u001b[0m\u001b[0m\n\u001b[0;32m----> 2\u001b[0;31m \u001b[0;32mfrom\u001b[0m \u001b[0mrlscore\u001b[0m\u001b[0;34m.\u001b[0m\u001b[0mlearner\u001b[0m \u001b[0;32mimport\u001b[0m \u001b[0mRLS\u001b[0m\u001b[0;34m\u001b[0m\u001b[0;34m\u001b[0m\u001b[0m\n\u001b[0m\u001b[1;32m      3\u001b[0m \u001b[0;32mfrom\u001b[0m \u001b[0mrlscore\u001b[0m\u001b[0;34m.\u001b[0m\u001b[0mmeasure\u001b[0m \u001b[0;32mimport\u001b[0m \u001b[0msqerror\u001b[0m\u001b[0;34m\u001b[0m\u001b[0;34m\u001b[0m\u001b[0m\n\u001b[1;32m      4\u001b[0m \u001b[0;34m\u001b[0m\u001b[0m\n\u001b[1;32m      5\u001b[0m \u001b[0;32mfrom\u001b[0m \u001b[0mhousing_data\u001b[0m \u001b[0;32mimport\u001b[0m \u001b[0mload_housing\u001b[0m\u001b[0;34m\u001b[0m\u001b[0;34m\u001b[0m\u001b[0m\n",
            "\u001b[0;31mModuleNotFoundError\u001b[0m: No module named 'rlscore'",
            "",
            "\u001b[0;31m---------------------------------------------------------------------------\u001b[0;32m\nNOTE: If your import is failing due to a missing package, you can\nmanually install dependencies using either !pip or !apt.\n\nTo view examples of installing some common dependencies, click the\n\"Open Examples\" button below.\n\u001b[0;31m---------------------------------------------------------------------------\u001b[0m\n"
          ]
        }
      ]
    }
  ]
}