{
  "nbformat": 4,
  "nbformat_minor": 0,
  "metadata": {
    "kernelspec": {
      "display_name": "Python 3",
      "language": "python",
      "name": "python3"
    },
    "language_info": {
      "codemirror_mode": {
        "name": "ipython",
        "version": 3
      },
      "file_extension": ".py",
      "mimetype": "text/x-python",
      "name": "python",
      "nbconvert_exporter": "python",
      "pygments_lexer": "ipython3",
      "version": "3.7.3"
    },
    "colab": {
      "name": "Projeto_IA .ipynb",
      "provenance": []
    }
  },
  "cells": [
    {
      "cell_type": "markdown",
      "metadata": {
        "id": "WQUYiLuy_KfJ",
        "colab_type": "text"
      },
      "source": [
        "Projeto de predição de Hepatite c\n",
        "\n",
        "Equipe: Daniel Lemos\n",
        "        Rafael Targino\n",
        "        \n",
        "Data_Set: https://archive.ics.uci.edu/ml/machine-learning-databases/00503/HCV-Egy-Data.zip\n",
        "\n",
        "\n",
        "Passos:\n",
        "Ler os dados e normalizá-los cross-validation 10 folds\n",
        "Utilizar os seguintes algoritimos:\n",
        "1- KNN variando o K(1,3,5,10)\n",
        "2- Naive-Bayes\n",
        "3- Arvore de Decisão (Random Forrest) variando o numero de florestas\n",
        "4- RLScore(variando o numero de kernels)"
      ]
    },
    {
      "cell_type": "code",
      "metadata": {
        "id": "OKKUBivC_KfP",
        "colab_type": "code",
        "colab": {
          "base_uri": "https://localhost:8080/",
          "height": 34
        },
        "outputId": "0f1b82ff-9547-44b6-da0c-5e55a00f0269"
      },
      "source": [
        "!pip install rlscore\n",
        "import numpy as np\n",
        "from sklearn.model_selection import KFold\n",
        "from sklearn import preprocessing\n",
        "from sklearn import preprocessing\n",
        "import pandas as pd\n",
        "import matplotlib.pyplot as pl\n",
        "%matplotlib inline"
      ],
      "execution_count": 106,
      "outputs": [
        {
          "output_type": "stream",
          "text": [
            "Requirement already satisfied: rlscore in /usr/local/lib/python3.6/dist-packages (0.8.1)\n"
          ],
          "name": "stdout"
        }
      ]
    },
    {
      "cell_type": "code",
      "metadata": {
        "id": "_8SQ07ME9uiL",
        "colab_type": "code",
        "colab": {}
      },
      "source": [
        "df = pd.read_csv(\"https://drive.google.com/uc?authuser=0&id=1S2HnHU5zoI7ERYhVd8naSaUMt0eJZW3L&export=download\")\n",
        "columns = df.columns\n",
        "from sklearn import preprocessing\n",
        "\n"
      ],
      "execution_count": 0,
      "outputs": []
    },
    {
      "cell_type": "code",
      "metadata": {
        "id": "SPQzqa5Mobvv",
        "colab_type": "code",
        "colab": {}
      },
      "source": [
        "from sklearn import preprocessing\n",
        "repcolumns = list()\n",
        "for index, column in enumerate(columns):\n",
        "  column = column.replace(\" \",\"\")\n",
        "  repcolumns.append(column)\n",
        "x = df.values\n",
        "min_max_scaler = preprocessing.MinMaxScaler()\n",
        "x_scaled = min_max_scaler.fit_transform(x)\n",
        "dfnorm = pd.DataFrame(x_scaled, columns = repcolumns)\n",
        "\n"
      ],
      "execution_count": 0,
      "outputs": []
    },
    {
      "cell_type": "code",
      "metadata": {
        "id": "lQnbtzKStbp_",
        "colab_type": "code",
        "colab": {
          "base_uri": "https://localhost:8080/",
          "height": 353
        },
        "outputId": "218a814b-b3b1-43ce-934d-04c657e994ea"
      },
      "source": [
        "\n",
        "kf = KFold(n_splits = 2, shuffle = True, random_state = 2)\n",
        "result = next(kf.split(df))\n",
        "print (len(result[0]))\n",
        "print(len(result[1]))\n",
        "\n",
        "train = dfnorm.iloc[result[0]]\n",
        "tamanho = len(train)\n",
        "test = dfnorm.iloc[result[1]]\n",
        "X_train = train[0:int(tamanho/2)-1]\n",
        "Y_train = train[int(tamanho/2):len(train)-1]\n",
        "X_test =  test[0:int(len(test)/2)]\n",
        "Y_test =  test[int(len(test)/2):len(test)-1]\n",
        "print(len(X_train))\n",
        "print(len(Y_train))\n",
        "pl.plot(X_train['Age'],X_train['BMI'],'bo')\n",
        "\n",
        "\n",
        "\n"
      ],
      "execution_count": 108,
      "outputs": [
        {
          "output_type": "stream",
          "text": [
            "692\n",
            "693\n",
            "345\n",
            "345\n"
          ],
          "name": "stdout"
        },
        {
          "output_type": "execute_result",
          "data": {
            "text/plain": [
              "[<matplotlib.lines.Line2D at 0x7f5597c4e470>]"
            ]
          },
          "metadata": {
            "tags": []
          },
          "execution_count": 108
        },
        {
          "output_type": "display_data",
          "data": {
            "image/png": "[encoded data removed]",
            "text/plain": [
              "<Figure size 432x288 with 1 Axes>"
            ]
          },
          "metadata": {
            "tags": []
          }
        }
      ]
    },
    {
      "cell_type": "code",
      "metadata": {
        "id": "_6NZFbb3FU3x",
        "colab_type": "code",
        "colab": {
          "base_uri": "https://localhost:8080/",
          "height": 406
        },
        "outputId": "e9a98e7b-97f2-49c7-e3b7-ecb7af1264e3"
      },
      "source": [
        "from rlscore.learner import RLS\n",
        "from rlscore.measure import sqerror\n",
        "from rlscore.learner import LeaveOneOutRLS\n",
        "\n",
        "regparams = [2.**i for i in range(-15, 16)]\n",
        "learner = RLS(X_train, Y_train, kernel=\"PolynomialKernel\", regparam = 100, gamma=1.0, coef0=1.0, degree=2)\n",
        "#Leave-one-out cross-validation predictions, this is fast due to\n",
        "#computational short-cut\n",
        "P_loo = learner.leave_one_out()\n",
        "#Test set predictions\n",
        "P_test = learner.predict(X_test)\n",
        "print(\"leave-one-out error %f\" %sqerror(Y_train, P_loo))\n",
        "print(\"test error %f\" %sqerror(Y_test, P_test))\n",
        "#Sanity check, can we do better than predicting mean of training labels?\n",
        "\n",
        "\n",
        "pl.plot(loo_errors,'r')"
      ],
      "execution_count": 109,
      "outputs": [
        {
          "output_type": "stream",
          "text": [
            "leave-one-out error 0.144001\n",
            "test error 0.140287\n"
          ],
          "name": "stdout"
        },
        {
          "output_type": "stream",
          "text": [
            "/usr/local/lib/python3.6/dist-packages/rlscore/utilities/array_tools.py:43: FutureWarning: Conversion of the second argument of issubdtype from `int` to `np.signedinteger` is deprecated. In future, it will be treated as `np.int64 == np.dtype(int).type`.\n",
            "  if not np.issubdtype(A.dtype, int) and not np.issubdtype(A.dtype, float):\n",
            "/usr/local/lib/python3.6/dist-packages/rlscore/utilities/array_tools.py:43: FutureWarning: Conversion of the second argument of issubdtype from `float` to `np.floating` is deprecated. In future, it will be treated as `np.float64 == np.dtype(float).type`.\n",
            "  if not np.issubdtype(A.dtype, int) and not np.issubdtype(A.dtype, float):\n"
          ],
          "name": "stderr"
        },
        {
          "output_type": "execute_result",
          "data": {
            "text/plain": [
              "[<matplotlib.lines.Line2D at 0x7f5597c250b8>]"
            ]
          },
          "metadata": {
            "tags": []
          },
          "execution_count": 109
        },
        {
          "output_type": "display_data",
          "data": {
            "image/png": "[encoded data removed]",
            "text/plain": [
              "<Figure size 432x288 with 1 Axes>"
            ]
          },
          "metadata": {
            "tags": []
          }
        }
      ]
    },
    {
      "cell_type": "code",
      "metadata": {
        "id": "yLEMFavwXuRx",
        "colab_type": "code",
        "colab": {
          "base_uri": "https://localhost:8080/",
          "height": 154
        },
        "outputId": "9c122c4f-f278-4879-e2f5-708b2c800f18"
      },
      "source": [
        "  regparams = [2.**i for i in range(-15, 16)]\n",
        "  gammas = regparams\n",
        "  best_regparam = None\n",
        "  best_gamma = None\n",
        "  best_error = float(\"inf\")\n",
        "  best_learner = None\n",
        "  for gamma in gammas:\n",
        "      #New RLS is initialized for each kernel parameter\n",
        "      learner = LeaveOneOutRLS(X_train, Y_train, kernel=\"GaussianKernel\", gamma=gamma, regparams=regparams)\n",
        "      e = np.min(learner.cv_performances)\n",
        "      if e < best_error:\n",
        "          best_error = e\n",
        "          best_regparam = learner.regparam\n",
        "          best_gamma = gamma\n",
        "          best_learner = learner\n",
        "P_test = best_learner.predict(X_test)\n",
        "print(\"best parameters gamma %f regparam %f\" %(best_gamma, best_regparam))\n",
        "print(\"best leave-one-out error %f\" %best_error)\n",
        "print(\"test error %f\" %sqerror(Y_test, P_test))"
      ],
      "execution_count": 110,
      "outputs": [
        {
          "output_type": "stream",
          "text": [
            "/usr/local/lib/python3.6/dist-packages/rlscore/utilities/array_tools.py:43: FutureWarning: Conversion of the second argument of issubdtype from `int` to `np.signedinteger` is deprecated. In future, it will be treated as `np.int64 == np.dtype(int).type`.\n",
            "  if not np.issubdtype(A.dtype, int) and not np.issubdtype(A.dtype, float):\n",
            "/usr/local/lib/python3.6/dist-packages/rlscore/utilities/array_tools.py:43: FutureWarning: Conversion of the second argument of issubdtype from `float` to `np.floating` is deprecated. In future, it will be treated as `np.float64 == np.dtype(float).type`.\n",
            "  if not np.issubdtype(A.dtype, int) and not np.issubdtype(A.dtype, float):\n"
          ],
          "name": "stderr"
        },
        {
          "output_type": "stream",
          "text": [
            "best parameters gamma 0.000031 regparam 1.000000\n",
            "best leave-one-out error 0.130081\n",
            "test error 0.129510\n"
          ],
          "name": "stdout"
        }
      ]
    }
  ]
}